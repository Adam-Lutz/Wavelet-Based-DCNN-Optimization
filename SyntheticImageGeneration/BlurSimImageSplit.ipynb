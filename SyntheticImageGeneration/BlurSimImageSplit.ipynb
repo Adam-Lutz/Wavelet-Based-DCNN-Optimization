{
 "cells": [
  {
   "cell_type": "code",
   "execution_count": 1,
   "metadata": {},
   "outputs": [],
   "source": [
    "import cv2\n",
    "import os\n",
    "\n",
    "directory = './3D_rendering/output'"
   ]
  },
  {
   "cell_type": "code",
   "execution_count": 2,
   "metadata": {},
   "outputs": [],
   "source": [
    "\n",
    "\n",
    "for f in os.listdir('img_gen_out'):\n",
    "    im = cv2.imread(os.path.join('img_gen_out', f))\n",
    "    im2 = cv2.imread(os.path.join('img_gen_out', f))\n",
    "    mask1 = im[0:300, 0:800]\n",
    "    mask2 = im[300:600, 0:800]\n",
    "    im[0:300, 0:800] = cv2.GaussianBlur(mask1,(31,31),0)\n",
    "    im2[300:600, 0:800] = cv2.GaussianBlur(mask2,(31,31),0)\n",
    "    file = os.path.splitext(f)[0]\n",
    "    cv2.imwrite(os.path.join(directory, file + 'U.bmp' ), im)\n",
    "    cv2.imwrite(os.path.join(directory, file + 'D.bmp'), im2)\n"
   ]
  }
 ],
 "metadata": {
  "kernelspec": {
   "display_name": "Python 3 (ipykernel)",
   "language": "python",
   "name": "python3"
  },
  "language_info": {
   "codemirror_mode": {
    "name": "ipython",
    "version": 3
   },
   "file_extension": ".py",
   "mimetype": "text/x-python",
   "name": "python",
   "nbconvert_exporter": "python",
   "pygments_lexer": "ipython3",
   "version": "3.8.12"
  }
 },
 "nbformat": 4,
 "nbformat_minor": 4
}
